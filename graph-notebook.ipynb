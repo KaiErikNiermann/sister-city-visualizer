{
 "cells": [
  {
   "attachments": {},
   "cell_type": "markdown",
   "metadata": {},
   "source": [
    "# Analysis of the sister-city network\n",
    "## Part 1 : Scraping \n",
    "We start off by writing a simple scraping algorithm that first yields us all the countries"
   ]
  },
  {
   "cell_type": "code",
   "execution_count": null,
   "metadata": {},
   "outputs": [],
   "source": [
    "%matplotlib inline \n",
    "from bs4 import BeautifulSoup\n",
    "from urllib.request import urlopen\n",
    "PARSER = \"html.parser\"\n",
    "\n",
    "url = \"http://en.sistercity.info/countries/\"\n",
    "\n",
    "html = urlopen(url).read()\n",
    "soup = BeautifulSoup(html, PARSER)\n",
    "\n",
    "countries = soup.find_all(\"a\", href=lambda href: href and href.startswith(\"/countries/\"))    "
   ]
  },
  {
   "attachments": {},
   "cell_type": "markdown",
   "metadata": {},
   "source": [
    "Once we have all the countries we simply apply the same idea to get all the cities and respective sister cities. We can then easily generate the graph after cleaning the html. For the sake of simplicity starting off I decided to limit the order of the graph to 100, that is I restricted the number of city nodes to 100."
   ]
  },
  {
   "cell_type": "code",
   "execution_count": null,
   "metadata": {},
   "outputs": [],
   "source": [
    "import networkx as nx\n",
    "import numpy as np\n",
    "import matplotlib.pyplot as plt\n",
    "from urllib.request import urlopen\n",
    "from bs4 import BeautifulSoup\n",
    "\n",
    "PARSER = \"html.parser\"\n",
    "G = nx.Graph()\n",
    "\n",
    "def yield_soup(url):\n",
    "    html = urlopen(url).read()\n",
    "    soup = BeautifulSoup(html, PARSER)\n",
    "    return soup\n",
    "\n",
    "def generate_edges(country_url):\n",
    "    country_soup = yield_soup(country_url)\n",
    "    cities = country_soup.find_all(\"a\", href=lambda href: href and href.startswith(\"/sister-cities/\"))\n",
    "\n",
    "    for city in cities:\n",
    "        city_url = \"http://en.sistercity.info\" + city[\"href\"]\n",
    "        city_soup = yield_soup(city_url)\n",
    "        sister_cities = city_soup.find_all(\"div\", {\"class\": \"label\"})\n",
    "        sister_cities = [sister_city.text for sister_city in sister_cities]\n",
    "\n",
    "        # Cleaning the data \n",
    "        sister_cities = [sister_city.replace(\"\\xa0→\", \"\").replace(\"\\xa0⇄\", \"\").replace(\"\\xa0←\", \"\") for sister_city in sister_cities]\n",
    "        for sister_city in sister_cities:\n",
    "            G.add_edge(city.text, sister_city)\n",
    "\n",
    "for country in countries:\n",
    "    country_url = \"http://en.sistercity.info\" + country[\"href\"]\n",
    "    if len(G) < 100:\n",
    "        generate_edges(country_url)"
   ]
  },
  {
   "attachments": {},
   "cell_type": "markdown",
   "metadata": {},
   "source": [
    "## Part 2 : Displaying \n",
    "Now if we just use the basic layout for drawing networks then there is alot of overlap with the nodes which makes everything quite unreadable."
   ]
  },
  {
   "cell_type": "code",
   "execution_count": null,
   "metadata": {},
   "outputs": [],
   "source": [
    "plt.figure(figsize=(10, 10))\n",
    "nx.draw_networkx(G, with_labels=True)\n",
    "plt.show()"
   ]
  },
  {
   "attachments": {},
   "cell_type": "markdown",
   "metadata": {},
   "source": [
    "So the first observation should be that the nodes are too close together. Also the text overflows the nodes quite heavily. Furhtermore the different components of the graph are scattered quite sporadically. So to fix this we can address each issue step by step. \n",
    "\n",
    "**issue 1 - Nodes too close**\n",
    "\n",
    "To solve the nodes being to close we can use the spring layout. Which quoting the documentation : \n",
    "```\n",
    "... simulates a force-directed representation of the network treating edges as springs holding nodes close, while treating nodes as repelling objects, sometimes called an anti-gravity force\n",
    "```\n",
    "\n",
    "The important parameter here is `k` which as it increases moves nodes further apart from oneanother. I could not figure out any nice way to find a nice value besides brute force so after a little bit of testing I settled on $20\\times \\frac{1}{\\sqrt{\\text{number of nodes}}}$\n",
    "\n",
    "**issue 2 - Node sizes** \n",
    "\n",
    "Clearly we want the nodes to cover a larger portion of the word to make it look less awkward, to do this we can simply increase the `node_size` argument and maybe also change the color of the nodes and edges to something more pastel to give the graph a less harsh appearance."
   ]
  },
  {
   "cell_type": "code",
   "execution_count": null,
   "metadata": {},
   "outputs": [],
   "source": [
    "# controls the graph layout\n",
    "pos = nx.spring_layout(G, \n",
    "                       k=20*1/np.sqrt(len(G.nodes())), \n",
    "                       iterations=400,\n",
    "                       scale=1000)\n",
    "\n",
    "plt.figure(figsize=(20, 20))\n",
    "\n",
    "# draw nodes and edges\n",
    "nx.draw(G, pos=pos, \n",
    "        node_size=1000, \n",
    "        node_color='lightblue', \n",
    "        edge_color='gray', \n",
    "        alpha=0.7, \n",
    "        width=0.5)\n",
    "\n",
    "nx.draw_networkx_labels(G, pos=pos, font_size=8)\n",
    "plt.axis('off')\n",
    "plt.show()"
   ]
  },
  {
   "attachments": {},
   "cell_type": "markdown",
   "metadata": {},
   "source": [
    "### 2.1 improving the display using pyvis\n",
    "One of the most prominant issues which is still apparent is that nodes still overlap to the point where it makes certain labels illegible. Here we could play around a bit more networkx but pyviz, which can interface with networkx, might be better suited moving forwards."
   ]
  },
  {
   "cell_type": "code",
   "execution_count": null,
   "metadata": {},
   "outputs": [],
   "source": [
    "from pyvis.network import Network\n",
    "\n",
    "net = Network(notebook=True, height=\"1000px\", width=\"1000px\", bgcolor=\"#222222\", font_color=\"white\", cdn_resources='remote')\n",
    "net.from_nx(G)\n",
    "net.show(\"assets/basic_example.html\")"
   ]
  },
  {
   "attachments": {},
   "cell_type": "markdown",
   "metadata": {},
   "source": [
    "This is alot nicer, now lets see scrape a few more cities and then see what our graph looks like. Also to avoid the performance impact its probably preferable to turn of the physics at this point."
   ]
  },
  {
   "cell_type": "code",
   "execution_count": null,
   "metadata": {},
   "outputs": [],
   "source": [
    "for country in countries:\n",
    "    country_url = \"http://en.sistercity.info\" + country[\"href\"]\n",
    "    if len(G) < 500:\n",
    "        generate_edges(country_url)"
   ]
  },
  {
   "cell_type": "code",
   "execution_count": null,
   "metadata": {},
   "outputs": [],
   "source": [
    "net = Network(notebook=True, height=\"1000px\", width=\"1000px\", bgcolor=\"#222222\", font_color=\"white\")\n",
    "net.from_nx(G)\n",
    "net.show(\"assets/more_cities.html\")"
   ]
  },
  {
   "attachments": {},
   "cell_type": "markdown",
   "metadata": {},
   "source": [
    "### Final refinements \n",
    "One final change I think would improve the visualization would be to make the degree centrality of a node correspond to its size. This is a simple addition to our display code."
   ]
  },
  {
   "cell_type": "code",
   "execution_count": null,
   "metadata": {},
   "outputs": [],
   "source": [
    "net = Network(notebook=True, height=\"1000px\", width=\"100%\", bgcolor=\"#222222\", font_color=\"white\")\n",
    "net.from_nx(G)\n",
    "node_degree = dict(G.degree)\n",
    "nx.set_node_attributes(G, node_degree, 'size')\n",
    "net.show(\"assets/all_cities.html\")"
   ]
  }
 ],
 "metadata": {
  "kernelspec": {
   "display_name": "Python 3",
   "language": "python",
   "name": "python3"
  },
  "language_info": {
   "codemirror_mode": {
    "name": "ipython",
    "version": 3
   },
   "file_extension": ".py",
   "mimetype": "text/x-python",
   "name": "python",
   "nbconvert_exporter": "python",
   "pygments_lexer": "ipython3",
   "version": "3.8.10"
  },
  "orig_nbformat": 4
 },
 "nbformat": 4,
 "nbformat_minor": 2
}
